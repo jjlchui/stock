{
 "cells": [
  {
   "cell_type": "code",
   "execution_count": 9,
   "id": "842c4a45",
   "metadata": {},
   "outputs": [],
   "source": [
    "import os\n",
    "import datetime"
   ]
  },
  {
   "cell_type": "code",
   "execution_count": 10,
   "id": "8468e4a5",
   "metadata": {},
   "outputs": [],
   "source": [
    "p_filename = \"_out_stock_data.csv\""
   ]
  },
  {
   "cell_type": "code",
   "execution_count": 11,
   "id": "7d167b2f",
   "metadata": {},
   "outputs": [],
   "source": [
    "time_stamp = datetime.datetime.now().strftime('%Y-%m-%d')"
   ]
  },
  {
   "cell_type": "code",
   "execution_count": 16,
   "id": "bc567434",
   "metadata": {},
   "outputs": [],
   "source": [
    "filename = time_stamp+\" NQ=F\"+p_filename"
   ]
  },
  {
   "cell_type": "code",
   "execution_count": 17,
   "id": "868fc7df",
   "metadata": {},
   "outputs": [
    {
     "data": {
      "text/plain": [
       "'2022-06-29 NQ=F_out_stock_data.csv'"
      ]
     },
     "execution_count": 17,
     "metadata": {},
     "output_type": "execute_result"
    }
   ],
   "source": [
    "filename"
   ]
  },
  {
   "cell_type": "code",
   "execution_count": 18,
   "id": "40847aab",
   "metadata": {},
   "outputs": [],
   "source": [
    "p_filename = \"_out_stock_data.csv\"\n",
    "time_stamp = datetime.datetime.now().strftime('%Y-%m-%d')\n",
    "#filename = os.path.join(str(time_stamp) +\"NQ=F\" + p_filename)\n",
    "filename = time_stamp+\" NQ=F\"+p_filename"
   ]
  },
  {
   "cell_type": "code",
   "execution_count": 19,
   "id": "e1601df0",
   "metadata": {},
   "outputs": [
    {
     "data": {
      "text/plain": [
       "'2022-06-29 NQ=F_out_stock_data.csv'"
      ]
     },
     "execution_count": 19,
     "metadata": {},
     "output_type": "execute_result"
    }
   ],
   "source": [
    "filename"
   ]
  },
  {
   "cell_type": "code",
   "execution_count": 20,
   "id": "388c2842",
   "metadata": {},
   "outputs": [],
   "source": [
    "cwd = os.getcwd()\n",
    "path = os.path.dirname(cwd)\n",
    "file_path = path + \"\\\\stock\\\\data\\\\\""
   ]
  },
  {
   "cell_type": "code",
   "execution_count": 21,
   "id": "fb5ebebe",
   "metadata": {},
   "outputs": [
    {
     "data": {
      "text/plain": [
       "'D:\\\\Development\\\\flask dev\\\\stock\\\\data\\\\'"
      ]
     },
     "execution_count": 21,
     "metadata": {},
     "output_type": "execute_result"
    }
   ],
   "source": [
    "file_path"
   ]
  },
  {
   "cell_type": "code",
   "execution_count": 22,
   "id": "b8f74b3e",
   "metadata": {},
   "outputs": [],
   "source": [
    "file = os.path.join(file_path, filename)"
   ]
  },
  {
   "cell_type": "code",
   "execution_count": 23,
   "id": "f016f2e0",
   "metadata": {},
   "outputs": [
    {
     "data": {
      "text/plain": [
       "'D:\\\\Development\\\\flask dev\\\\stock\\\\data\\\\2022-06-29 NQ=F_out_stock_data.csv'"
      ]
     },
     "execution_count": 23,
     "metadata": {},
     "output_type": "execute_result"
    }
   ],
   "source": [
    "file"
   ]
  },
  {
   "cell_type": "code",
   "execution_count": 24,
   "id": "cf936fb5",
   "metadata": {},
   "outputs": [
    {
     "ename": "NameError",
     "evalue": "name 'pd' is not defined",
     "output_type": "error",
     "traceback": [
      "\u001b[1;31m---------------------------------------------------------------------------\u001b[0m",
      "\u001b[1;31mNameError\u001b[0m                                 Traceback (most recent call last)",
      "Input \u001b[1;32mIn [24]\u001b[0m, in \u001b[0;36m<cell line: 1>\u001b[1;34m()\u001b[0m\n\u001b[1;32m----> 1\u001b[0m df \u001b[38;5;241m=\u001b[39m \u001b[43mpd\u001b[49m\u001b[38;5;241m.\u001b[39mread_csv(file)\n",
      "\u001b[1;31mNameError\u001b[0m: name 'pd' is not defined"
     ]
    }
   ],
   "source": [
    "df = pd.read_csv(file)"
   ]
  },
  {
   "cell_type": "code",
   "execution_count": 25,
   "id": "0d40b9d2",
   "metadata": {},
   "outputs": [],
   "source": [
    "import pandas as pd"
   ]
  },
  {
   "cell_type": "code",
   "execution_count": 26,
   "id": "b036da34",
   "metadata": {},
   "outputs": [],
   "source": [
    "df = pd.read_csv(file)"
   ]
  },
  {
   "cell_type": "code",
   "execution_count": 27,
   "id": "bb04c937",
   "metadata": {},
   "outputs": [
    {
     "data": {
      "text/html": [
       "<div>\n",
       "<style scoped>\n",
       "    .dataframe tbody tr th:only-of-type {\n",
       "        vertical-align: middle;\n",
       "    }\n",
       "\n",
       "    .dataframe tbody tr th {\n",
       "        vertical-align: top;\n",
       "    }\n",
       "\n",
       "    .dataframe thead th {\n",
       "        text-align: right;\n",
       "    }\n",
       "</style>\n",
       "<table border=\"1\" class=\"dataframe\">\n",
       "  <thead>\n",
       "    <tr style=\"text-align: right;\">\n",
       "      <th></th>\n",
       "      <th>2022-06-29 13:21:00</th>\n",
       "      <th>11713.25</th>\n",
       "      <th>11713.25.1</th>\n",
       "      <th>11713.25.2</th>\n",
       "      <th>11713.25.3</th>\n",
       "    </tr>\n",
       "  </thead>\n",
       "  <tbody>\n",
       "    <tr>\n",
       "      <th>0</th>\n",
       "      <td>2022-06-29 13:21:00</td>\n",
       "      <td>11713.25</td>\n",
       "      <td>11713.25</td>\n",
       "      <td>11713.25</td>\n",
       "      <td>11713.25</td>\n",
       "    </tr>\n",
       "    <tr>\n",
       "      <th>1</th>\n",
       "      <td>2022-06-29 13:22:00</td>\n",
       "      <td>11716.50</td>\n",
       "      <td>11716.50</td>\n",
       "      <td>11716.50</td>\n",
       "      <td>11716.50</td>\n",
       "    </tr>\n",
       "    <tr>\n",
       "      <th>2</th>\n",
       "      <td>2022-06-29 13:22:00</td>\n",
       "      <td>11716.25</td>\n",
       "      <td>11716.25</td>\n",
       "      <td>11716.25</td>\n",
       "      <td>11716.25</td>\n",
       "    </tr>\n",
       "    <tr>\n",
       "      <th>3</th>\n",
       "      <td>2022-06-29 13:23:00</td>\n",
       "      <td>11717.00</td>\n",
       "      <td>11717.00</td>\n",
       "      <td>11717.00</td>\n",
       "      <td>11717.00</td>\n",
       "    </tr>\n",
       "    <tr>\n",
       "      <th>4</th>\n",
       "      <td>2022-06-29 13:24:00</td>\n",
       "      <td>11718.25</td>\n",
       "      <td>11718.25</td>\n",
       "      <td>11718.25</td>\n",
       "      <td>11718.25</td>\n",
       "    </tr>\n",
       "    <tr>\n",
       "      <th>...</th>\n",
       "      <td>...</td>\n",
       "      <td>...</td>\n",
       "      <td>...</td>\n",
       "      <td>...</td>\n",
       "      <td>...</td>\n",
       "    </tr>\n",
       "    <tr>\n",
       "      <th>143</th>\n",
       "      <td>2022-06-29 15:09:00</td>\n",
       "      <td>11642.25</td>\n",
       "      <td>11642.25</td>\n",
       "      <td>11642.25</td>\n",
       "      <td>11642.25</td>\n",
       "    </tr>\n",
       "    <tr>\n",
       "      <th>144</th>\n",
       "      <td>2022-06-29 15:10:00</td>\n",
       "      <td>11634.00</td>\n",
       "      <td>11634.00</td>\n",
       "      <td>11634.00</td>\n",
       "      <td>11634.00</td>\n",
       "    </tr>\n",
       "    <tr>\n",
       "      <th>145</th>\n",
       "      <td>2022-06-29 15:10:00</td>\n",
       "      <td>11640.00</td>\n",
       "      <td>11640.00</td>\n",
       "      <td>11640.00</td>\n",
       "      <td>11640.00</td>\n",
       "    </tr>\n",
       "    <tr>\n",
       "      <th>146</th>\n",
       "      <td>2022-06-29 15:11:00</td>\n",
       "      <td>11638.25</td>\n",
       "      <td>11638.25</td>\n",
       "      <td>11638.25</td>\n",
       "      <td>11638.25</td>\n",
       "    </tr>\n",
       "    <tr>\n",
       "      <th>147</th>\n",
       "      <td>2022-06-29 15:11:00</td>\n",
       "      <td>11633.25</td>\n",
       "      <td>11633.25</td>\n",
       "      <td>11633.25</td>\n",
       "      <td>11633.25</td>\n",
       "    </tr>\n",
       "  </tbody>\n",
       "</table>\n",
       "<p>148 rows × 5 columns</p>\n",
       "</div>"
      ],
      "text/plain": [
       "     2022-06-29 13:21:00  11713.25  11713.25.1  11713.25.2  11713.25.3\n",
       "0    2022-06-29 13:21:00  11713.25    11713.25    11713.25    11713.25\n",
       "1    2022-06-29 13:22:00  11716.50    11716.50    11716.50    11716.50\n",
       "2    2022-06-29 13:22:00  11716.25    11716.25    11716.25    11716.25\n",
       "3    2022-06-29 13:23:00  11717.00    11717.00    11717.00    11717.00\n",
       "4    2022-06-29 13:24:00  11718.25    11718.25    11718.25    11718.25\n",
       "..                   ...       ...         ...         ...         ...\n",
       "143  2022-06-29 15:09:00  11642.25    11642.25    11642.25    11642.25\n",
       "144  2022-06-29 15:10:00  11634.00    11634.00    11634.00    11634.00\n",
       "145  2022-06-29 15:10:00  11640.00    11640.00    11640.00    11640.00\n",
       "146  2022-06-29 15:11:00  11638.25    11638.25    11638.25    11638.25\n",
       "147  2022-06-29 15:11:00  11633.25    11633.25    11633.25    11633.25\n",
       "\n",
       "[148 rows x 5 columns]"
      ]
     },
     "execution_count": 27,
     "metadata": {},
     "output_type": "execute_result"
    }
   ],
   "source": [
    "df"
   ]
  },
  {
   "cell_type": "code",
   "execution_count": null,
   "id": "8ac5b48d",
   "metadata": {},
   "outputs": [],
   "source": []
  }
 ],
 "metadata": {
  "kernelspec": {
   "display_name": "Python 3 (ipykernel)",
   "language": "python",
   "name": "python3"
  },
  "language_info": {
   "codemirror_mode": {
    "name": "ipython",
    "version": 3
   },
   "file_extension": ".py",
   "mimetype": "text/x-python",
   "name": "python",
   "nbconvert_exporter": "python",
   "pygments_lexer": "ipython3",
   "version": "3.8.13"
  }
 },
 "nbformat": 4,
 "nbformat_minor": 5
}
